{
 "cells": [
  {
   "cell_type": "markdown",
   "id": "8186316b-a08c-4343-a062-5fe8cef69c41",
   "metadata": {},
   "source": [
    "<img src=\"./logo_UNSAM.jpg\" align=\"right\" width=\"150\" />\n",
    "\n",
    "#### Análisis y Procesamiento de Señales\n",
    "\n",
    "# Trabajo Práctico Nº0\n",
    "#### Guadalupe Cura\n"
   ]
  },
  {
   "cell_type": "markdown",
   "id": "b70539ba-1b23-4593-a430-482fa0442eaa",
   "metadata": {},
   "source": [
    "## Introducción teórica\n",
    "\n",
    "    Las funciones senoidales son funciones de onda periódicas y son utilizadas en el análisis de señales, ya que, mediante la transformada de Fourier, cualquier señal periódica se puede representar como combinación de senos y cosenos.\n",
    "    Una señal senoidal se puede expresar como:\n",
    "$$\n",
    "\\text{sen}(t) = Amplitud \\cdot \\sin\\!\\big( 2\\pi \\, frecuencia \\, t + ph \\big) + dc            (1)\n",
    "$$\n",
    "  \n",
    "    Cuando se quiere digitalizar una onda, lo que se hace es, a partir de la ecuación de onda original, se busca reconstruir la misma mediante la toma de una serie de muestras. Dichas muestras se dan con una cierta frecuencia de muestreo, es decir, determinadas muestras en un segundo. \n",
    "$$\n",
    "ff = \\frac{1}{T_(muestreo)}.                                                             (2)\n",
    "$$\n",
    "\n",
    "    Es aquí donde entra el importante teorema de Nyquist, el cual establece que para reconstruir una señal analógica continua, utilizando una serie de muestras, la frecuencia de muestreo debe ser al menos el doble que la frecuencia máxima de la señal. Lo que es lo mismo decir que mediante este teorema se establece la frecuencia mínima de muestreo necesaria para reconstruir la señal original.\n",
    "$$    \n",
    "\\text{ff}>=2fs.\n",
    "$$   \n",
    "\n",
    "    Lo que puede suceder si se toma una frecuencia de muestreo menor, es el efecto de Aliasing, donde la señal reconstruida tiene una frecuencia distinta a la frecuencia de la señal original. Esto se debe a que ocurre un solapamiento en las señales.\n",
    "    Para la reconstrucción de señales, es importante evitar que suceda este efecto. \n",
    "    "
   ]
  },
  {
   "attachments": {},
   "cell_type": "markdown",
   "id": "3d8d59de-33f3-410a-99d2-9dbe14819a03",
   "metadata": {},
   "source": [
    "## Análisis y desarrollo\n",
    "    Para comenzar con la experiencia del trabajo práctico, se comenzó realizando un código en Python, donde, mediante la utilización de una función, se definió la señal senoidal. Los parámetros de entrada de la función son, amplitud, valor medio, frecuencia de la función, fase inicial, número de muestras y frecuencia de muestreo.\n",
    "    La función senoidal, se definió utilizando (1) y los parámetros de entrada fueron:\n",
    "    Frecuencia de muestreo=1000 Hz, Amplitud= 3, valor medio=0, número de muestreos=1000 y frecuencia de la señal.\n",
    "    Los valores de la frecuencia de la señal se fueron alternando para luego plasmarlos en un mismo gráfico. \n",
    "    "
   ]
  },
  {
   "cell_type": "code",
   "execution_count": null,
   "id": "fb6b1aad-ce5c-4c3c-a648-35da752290c9",
   "metadata": {},
   "outputs": [],
   "source": [
    "#Código\n",
    "# -*- coding: utf-8 -*-\n",
    "\"\"\"\n",
    "Created on Thu Aug 14 10:04:21 2025\n",
    "\n",
    "@author: USUARIO\n",
    "\"\"\"\n",
    "import numpy as np\n",
    "import matplotlib as mpl\n",
    "import matplotlib.pyplot as plt\n",
    "\n",
    "N=1000\n",
    "ff=1000 #esta tiene que ser mayor o igual a 2*ff\n",
    "\n",
    "\n",
    "#vc=amplitud max\n",
    "#dc=desfasaje-valor medio\n",
    "#ff=frecuencia de muestreo\n",
    "#ph=fase inicial. Es el desplazamiento horizontal de la señal en radianes.\n",
    "#fs=frecuencia de señal\n",
    "\n",
    "def funcion_seno(vc=3, dc=0, fs=None, ph=0, nn=N, ff=ff):\n",
    "    t=np.arange(0, nn-1) / ff\n",
    "    sen=(vc*np.sin(2*np.pi*fs*t+ph)+dc)\n",
    "    return t,sen\n",
    "\n",
    "fs=[1, 500, 999, 1001, 2001]\n",
    "\n",
    "# Estilos de línea distintos para cada señal\n",
    "estilos = ['-', '--', '-.', ':', (0, (3, 5, 1, 5))]\n",
    "\n",
    "for i, f in enumerate(fs):\n",
    "    tt, xx = funcion_seno(vc=np.sqrt(2), dc=0, fs=f, ph=0, nn=N, ff=ff)\n",
    "    plt.plot(tt, xx, linestyle=estilos[i % len(estilos)], label=f'{f} Hz')\n",
    "\n",
    "plt.title('Señales Senoidales con Distintas Frecuencias')\n",
    "plt.xlabel('Tiempo [s]')\n",
    "plt.ylabel('Amplitud [V]')\n",
    "plt.legend(title=\"Frecuencias\")\n",
    "plt.grid(True)\n",
    "plt.show()\n",
    "\n",
    "\n"
   ]
  },
  {
   "cell_type": "markdown",
   "id": "8e85398f-3384-4f7d-985d-f506d28a966b",
   "metadata": {},
   "source": [
    "    Como se puede observar en el mismo, la variación de frecuencias en rangos que no respetan el teorema de Nyquist se observa en forma de ondas o rectas en el gráfico. \n",
    "    En el caso de las frecuencias de muestreo 1001 y 2001 para una señal de frecuencia 1000 Hz es decir 1000 ciclos en un segundo. Las muestras van a ser 1001 y 2002 por segundo, respectivamente y equiespaciadas. Este fenómeno lo que logra es la reconstrucción de una onda de frecuencia de 1 Hz, es decir, un efecto Aliasing.\n",
    "    Cuando se toma la frecuencia de muestreo de 500 Hz, quiere decir que se toman dos muestras cada ciclo. El hecho de que la representación sea la recta y=0, indica que el muestreo sucede en las raíces de la señal original.\n",
    "    Luego para la frecuencia de 999 Hz, la señal reconstruida es una señal de frecuencia 1 Hz, pero desfasada en pi. Nuevamente, es un fenómeno que se puede explicar mediante la superposición de señales y el efecto Aliasing, previamente explicado. "
   ]
  },
  {
   "cell_type": "markdown",
   "id": "bb938006-436d-4f37-b525-410553c8a237",
   "metadata": {},
   "source": [
    "## Notas finales\n",
    "    Para relizar la terea utilicé IA, para poder distinguir con el trazado de las líneas las diferentes funciones.\n",
    "    No pude escribir ecuaciones en el medio de las oraciones, por ejemplo, utilicé la palabra pi en vez del símbolo, porque no me lo tomaba. "
   ]
  },
  {
   "cell_type": "code",
   "execution_count": null,
   "id": "2bd32bed-eb69-4071-af7f-f4b357d36cf6",
   "metadata": {},
   "outputs": [],
   "source": []
  }
 ],
 "metadata": {
  "kernelspec": {
   "display_name": "Python 3 (ipykernel)",
   "language": "python",
   "name": "python3"
  },
  "language_info": {
   "codemirror_mode": {
    "name": "ipython",
    "version": 3
   },
   "file_extension": ".py",
   "mimetype": "text/x-python",
   "name": "python",
   "nbconvert_exporter": "python",
   "pygments_lexer": "ipython3",
   "version": "3.13.6"
  }
 },
 "nbformat": 4,
 "nbformat_minor": 5
}
